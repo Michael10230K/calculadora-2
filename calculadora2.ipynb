{
  "nbformat": 4,
  "nbformat_minor": 0,
  "metadata": {
    "colab": {
      "provenance": [],
      "authorship_tag": "ABX9TyPErzHdyRLwPlLy9dP880pf",
      "include_colab_link": true
    },
    "kernelspec": {
      "name": "python3",
      "display_name": "Python 3"
    },
    "language_info": {
      "name": "python"
    }
  },
  "cells": [
    {
      "cell_type": "markdown",
      "metadata": {
        "id": "view-in-github",
        "colab_type": "text"
      },
      "source": [
        "<a href=\"https://colab.research.google.com/github/Michael10230K/calculadora-2/blob/main/calculadora2.ipynb\" target=\"_parent\"><img src=\"https://colab.research.google.com/assets/colab-badge.svg\" alt=\"Open In Colab\"/></a>"
      ]
    },
    {
      "cell_type": "code",
      "execution_count": 1,
      "metadata": {
        "colab": {
          "base_uri": "https://localhost:8080/"
        },
        "id": "I24AOzFCVm_3",
        "outputId": "3d4ed745-6f0d-466d-b7e2-4003e5021e42"
      },
      "outputs": [
        {
          "output_type": "stream",
          "name": "stdout",
          "text": [
            "numero 1: 20\n",
            "numero 2: 23\n",
            "seleccione opcion\n",
            "            1- Sumar \n",
            "            2- Restar\n",
            "            3- Multiplicar\n",
            "            4- dividir \n",
            "        \n",
            "Elige una opcion: 1\n",
            "la suma es 43\n"
          ]
        }
      ],
      "source": [
        "num1 = int(input(\"numero 1: \"))\n",
        "num2 = int(input(\"numero 2: \"))\n",
        "\n",
        "valor = 0\n",
        "while True:\n",
        "    print(\"\"\"seleccione opcion\n",
        "            1- Sumar\n",
        "            2- Restar\n",
        "            3- Multiplicar\n",
        "            4- dividir\n",
        "        \"\"\")\n",
        "\n",
        "    valor = int(input(\"Elige una opcion: \") )\n",
        "\n",
        "    if valor == 1:\n",
        "        print(\"la suma es\",num1+num2)\n",
        "        break;\n",
        "    if valor == 2:\n",
        "        print(\"la resta es\",num1-num2)\n",
        "        break;\n",
        "    if valor == 3:\n",
        "        print(\"la multiplicacion es\",num1*num2)\n",
        "        break;\n",
        "    if valor == 4:\n",
        "        print(\"la division es\",num1/num2)\n",
        "        break;\n",
        "    else:\n",
        "        print(\"Opcion incorrecta\")\n",
        "        break;"
      ]
    }
  ]
}